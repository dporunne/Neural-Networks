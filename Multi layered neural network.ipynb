{
 "cells": [
  {
   "cell_type": "code",
   "execution_count": 10,
   "metadata": {
    "collapsed": false
   },
   "outputs": [
    {
     "name": "stdout",
     "output_type": "stream",
     "text": [
      "Stage1: Random starting synaptic weights:\n",
      "Layer1: 4 neurons each with 3 inputs:\n",
      "[[  8.34044009e-01   1.44064899e+00   2.28749635e-04   6.04665145e-01]\n",
      " [  2.93511782e-01   1.84677190e-01   3.72520423e-01   6.91121454e-01]\n",
      " [  7.93534948e-01   1.07763347e+00   8.38389029e-01   1.37043900e+00]]\n",
      "Layer2: 1 neuron with 4 inputs:\n",
      "[[ 0.4089045 ]\n",
      " [ 1.75623487]\n",
      " [ 0.05477519]\n",
      " [ 1.34093502]]\n",
      "Stage 2: New synaptic weights after training:\n",
      "Layer1: 4 neurons each with 3 inputs:\n",
      "[[ 6.47892716  5.3569066  -4.93989886  4.03848307]\n",
      " [-4.90353049  5.34871632  6.39687344  4.07017437]\n",
      " [ 0.78641328  0.04091763  0.85499938  1.69790731]]\n",
      "Layer2: 1 neuron with 4 inputs:\n",
      "[[-14.57942688]\n",
      " [ 12.05741367]\n",
      " [-14.58473645]\n",
      " [  8.18939311]]\n",
      "Stage 3:Consider new situation [1,1,0]:\n",
      "[ 0.02496571]\n"
     ]
    }
   ],
   "source": [
    "from numpy import exp,dot,random,array\n",
    "\n",
    "class NeuronLayer():\n",
    "    def __init__(self,no_of_neurons,no_of_inputs_per_neuron):\n",
    "        self.synaptic_weights = 2* random.random((no_of_inputs_per_neuron,no_of_neurons))\n",
    "    \n",
    "class NeuralNetwork():\n",
    "    def __init__(self,layer1,layer2):\n",
    "        self.layer1 = layer1\n",
    "        self.layer2 = layer2\n",
    "        \n",
    "    #Sigmoid function\n",
    "    def __sigmoid(self,x):\n",
    "        return 1/(1+ exp(-x))\n",
    "\n",
    "    #Derivative of sigmoid function\n",
    "    def __sigmoid_derivative(self,x):\n",
    "        return x*(1-x)\n",
    "\n",
    "    #Training of neural network\n",
    "    def train(self,training_set_inputs,training_set_outputs,train_iterations):\n",
    "        for iteration in range(train_iterations):\n",
    "                layer1_output,layer2_output = self.think(training_set_inputs)\n",
    "                \n",
    "                layer2_error = training_set_outputs - layer2_output\n",
    "                layer2_delta = layer2_error * self.__sigmoid_derivative(layer2_output)\n",
    "                \n",
    "                layer1_error = layer2_delta.dot(self.layer2.synaptic_weights.T)\n",
    "                layer1_delta = layer1_error * self.__sigmoid_derivative(layer1_output)\n",
    "                \n",
    "                layer1_adjustment = training_set_inputs.T.dot(layer1_delta)\n",
    "                layer2_adjustment = layer1_output.T.dot(layer2_delta)\n",
    "                \n",
    "                self.layer1.synaptic_weights += layer1_adjustment\n",
    "                self.layer2.synaptic_weights += layer2_adjustment\n",
    "                \n",
    "    \n",
    "    def think(self,inputs):\n",
    "        layer1_output = self.__sigmoid(dot(inputs,self.layer1.synaptic_weights))\n",
    "        layer2_output = self.__sigmoid(dot(layer1_output,self.layer2.synaptic_weights))\n",
    "        return layer1_output,layer2_output\n",
    "    \n",
    "    def print_weights(self):\n",
    "        print(\"Layer1: 4 neurons each with 3 inputs:\")\n",
    "        print(self.layer1.synaptic_weights)\n",
    "        print(\"Layer2: 1 neuron with 4 inputs:\")\n",
    "        print(self.layer2.synaptic_weights)\n",
    "        \n",
    "if __name__ == \"__main__\":\n",
    "    random.seed(1)\n",
    "    layer1 = NeuronLayer(4,3)\n",
    "    layer2 = NeuronLayer(1,4)\n",
    "    neural_network = NeuralNetwork(layer1,layer2)\n",
    "    print(\"Stage1: Random starting synaptic weights:\")\n",
    "    neural_network.print_weights()\n",
    "    training_set_inputs = array([[0,0,1],[0,1,1],[1,0,1],[0,1,0],[1,0,0],[1,1,1],[0,0,0]])\n",
    "    training_set_outputs = array([[0,1,1,1,1,0,0]]).T\n",
    "    neural_network.train(training_set_inputs,training_set_outputs,60000)\n",
    "    \n",
    "    print(\"Stage 2: New synaptic weights after training:\")\n",
    "    neural_network.print_weights()\n",
    "    \n",
    "    print(\"Stage 3:Consider new situation [1,1,0]:\")\n",
    "    hidden_state,output = neural_network.think(array([1,1,0]))\n",
    "    print(output)"
   ]
  },
  {
   "cell_type": "code",
   "execution_count": null,
   "metadata": {
    "collapsed": true
   },
   "outputs": [],
   "source": []
  }
 ],
 "metadata": {
  "anaconda-cloud": {},
  "kernelspec": {
   "display_name": "Python [default]",
   "language": "python",
   "name": "python3"
  },
  "language_info": {
   "codemirror_mode": {
    "name": "ipython",
    "version": 3
   },
   "file_extension": ".py",
   "mimetype": "text/x-python",
   "name": "python",
   "nbconvert_exporter": "python",
   "pygments_lexer": "ipython3",
   "version": "3.5.2"
  }
 },
 "nbformat": 4,
 "nbformat_minor": 1
}
